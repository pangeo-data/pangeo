{
 "cells": [
  {
   "cell_type": "markdown",
   "metadata": {},
   "source": [
    "# CESM Large Ensemble Tracer Budget\n",
    "\n",
    "Here we calculate the DIC budget from the ocean component model (POP2) of the CESM Large Ensemble (CESM-LENS). This code can be used to create budgets, as is, for any tracer. Also, by replacing the load function in cell 6,`pl.open_pop_ensemble`, with `pl.open_pop_single_var_file` or `pl.open_pop_multi_var_file`, you can use this notebook to calculate tracer budgets with any POP2 output.\n",
    "\n",
    "CESM-LENS is a set climate simulations that allow for the study of natural climate varability and climate change. More about the project can be found [here](http://www.cesm.ucar.edu/projects/community-projects/LENS/). To represent the full envelope of natural variability, the fully coupled version of the CESM has been run 40 times representing 40 different realizations of the period 1920-2100. Dask and xarray are the perfect tools to handle the large data volume"
   ]
  },
  {
   "cell_type": "code",
   "execution_count": 1,
   "metadata": {
    "scrolled": true
   },
   "outputs": [],
   "source": [
    "!qselect -N dask-worker | xargs qdel"
   ]
  },
  {
   "cell_type": "code",
   "execution_count": 2,
   "metadata": {},
   "outputs": [],
   "source": [
    "import xarray as xr\n",
    "import numpy as np\n",
    "import poploader as pl # faster xarray dataset creation for POP2 (https://gist.github.com/sridge/fe5f180c7e1332212fcce0161c461716)\n",
    "from tqdm import tqdm # progressbar"
   ]
  },
  {
   "cell_type": "code",
   "execution_count": 3,
   "metadata": {},
   "outputs": [],
   "source": [
    "from dask_jobqueue import PBSCluster\n",
    "\n",
    "cluster = PBSCluster(local_directory = '/glade/scratch/sridge/spill/',\n",
    "                     processes=18,\n",
    "                     threads=4, memory=\"6GB\",\n",
    "                     project='UCLB0022',\n",
    "                     queue='premium',\n",
    "                     resource_spec='select=1:ncpus=36:mem=109G',\n",
    "                     walltime='1:00:00')\n",
    "cluster.start_workers(16)\n",
    "\n",
    "from dask.distributed import Client\n",
    "client = Client(cluster)"
   ]
  },
  {
   "cell_type": "code",
   "execution_count": 4,
   "metadata": {},
   "outputs": [
    {
     "data": {
      "text/html": [
       "<table style=\"border: 2px solid white;\">\n",
       "<tr>\n",
       "<td style=\"vertical-align: top; border: 0px solid white\">\n",
       "<h3>Client</h3>\n",
       "<ul>\n",
       "  <li><b>Scheduler: </b>tcp://10.148.13.49:50623\n",
       "  <li><b>Dashboard: </b><a href='http://10.148.13.49:8787/status' target='_blank'>http://10.148.13.49:8787/status</a>\n",
       "</ul>\n",
       "</td>\n",
       "<td style=\"vertical-align: top; border: 0px solid white\">\n",
       "<h3>Cluster</h3>\n",
       "<ul>\n",
       "  <li><b>Workers: </b>0</li>\n",
       "  <li><b>Cores: </b>0</li>\n",
       "  <li><b>Memory: </b>0 B</li>\n",
       "</ul>\n",
       "</td>\n",
       "</tr>\n",
       "</table>"
      ],
      "text/plain": [
       "<Client: scheduler='tcp://10.148.13.49:50623' processes=0 cores=0>"
      ]
     },
     "execution_count": 4,
     "metadata": {},
     "output_type": "execute_result"
    }
   ],
   "source": [
    "client"
   ]
  },
  {
   "cell_type": "code",
   "execution_count": 5,
   "metadata": {},
   "outputs": [],
   "source": [
    "tracer = 'DIC_ALT_CO2'\n",
    "\n",
    "ddir = '/glade/scratch/sridge/*/'\n",
    "outdir = '/glade/scratch/sridge/'\n",
    "\n",
    "memberlist = [1, 2, 9, 10, 11, 12, 13, 14, 15, 16, 17, 18, 19, 20, 21, 22, 23, 24, 25, 26, 27,\n",
    "              28, 29, 30, 31, 32, 33, 101, 102, 103, 104, 105]\n",
    "\n",
    "memberlist = memberlist[1:5] #smaller version to test\n",
    "\n",
    "transport_terms = ['UE_','VN_','WT_','HDIFE_','HDIFN_','HDIFB_','DIA_IMPVF_','KPP_SRC_']#,'J_']\n",
    "\n",
    "transport_varnames=[]\n",
    "\n",
    "for term in transport_terms:\n",
    "\n",
    "    transport_varnames += [term + tracer]"
   ]
  },
  {
   "cell_type": "markdown",
   "metadata": {},
   "source": [
    "## Open the Dataset\n",
    "If you're not using the ensemble, you may also want to try:\n",
    "`pl.open_pop_single_var_file`\n",
    "`pl.open_pop_multi_var_file`"
   ]
  },
  {
   "cell_type": "code",
   "execution_count": null,
   "metadata": {
    "scrolled": true
   },
   "outputs": [],
   "source": [
    "# function that strips uneeded coordinate variables and groups  all model output into a single dataset\n",
    "ds = pl.open_pop_ensemble(ddir, transport_varnames[0:8], memberlist)"
   ]
  },
  {
   "cell_type": "code",
   "execution_count": 7,
   "metadata": {},
   "outputs": [
    {
     "data": {
      "text/plain": [
       "<xarray.Dataset>\n",
       "Dimensions:                (member: 4, nlat: 384, nlon: 320, time: 181, z_t: 60, z_t_150m: 15, z_w: 60, z_w_bot: 60, z_w_top: 60)\n",
       "Coordinates:\n",
       "  * z_t                    (z_t) float32 500.0 1500.0 2500.0 3500.0 4500.0 ...\n",
       "  * z_t_150m               (z_t_150m) float32 500.0 1500.0 2500.0 3500.0 ...\n",
       "  * z_w                    (z_w) float32 0.0 1000.0 2000.0 3000.0 4000.0 ...\n",
       "  * z_w_bot                (z_w_bot) float32 1000.0 2000.0 3000.0 4000.0 ...\n",
       "  * z_w_top                (z_w_top) float32 0.0 1000.0 2000.0 3000.0 4000.0 ...\n",
       "  * time                   (time) float64 7.012e+05 7.015e+05 7.019e+05 ...\n",
       "    dz                     (z_t) float32 1000.0 1000.0 1000.0 1000.0 1000.0 ...\n",
       "    dzw                    (z_w) float32 500.0 1000.0 1000.0 1000.0 1000.0 ...\n",
       "    ULONG                  (nlat, nlon) float64 321.1 322.3 323.4 324.5 ...\n",
       "    ULAT                   (nlat, nlon) float64 -78.95 -78.95 -78.95 -78.95 ...\n",
       "    TLONG                  (nlat, nlon) float64 320.6 321.7 322.8 323.9 ...\n",
       "    TLAT                   (nlat, nlon) float64 -79.22 -79.22 -79.22 -79.22 ...\n",
       "    KMT                    (nlat, nlon) float64 0.0 0.0 0.0 0.0 0.0 0.0 0.0 ...\n",
       "    KMU                    (nlat, nlon) float64 0.0 0.0 0.0 0.0 0.0 0.0 0.0 ...\n",
       "    REGION_MASK            (nlat, nlon) float64 0.0 0.0 0.0 0.0 0.0 0.0 0.0 ...\n",
       "    UAREA                  (nlat, nlon) float64 1.423e+13 1.423e+13 ...\n",
       "    TAREA                  (nlat, nlon) float64 1.125e+13 1.125e+13 ...\n",
       "    HU                     (nlat, nlon) float64 0.0 0.0 0.0 0.0 0.0 0.0 0.0 ...\n",
       "    HT                     (nlat, nlon) float64 0.0 0.0 0.0 0.0 0.0 0.0 0.0 ...\n",
       "    DXU                    (nlat, nlon) float64 2.397e+06 2.397e+06 ...\n",
       "    DYU                    (nlat, nlon) float64 5.94e+06 5.94e+06 5.94e+06 ...\n",
       "    DXT                    (nlat, nlon) float64 1.894e+06 1.893e+06 ...\n",
       "    DYT                    (nlat, nlon) float64 5.94e+06 5.94e+06 5.94e+06 ...\n",
       "    HTN                    (nlat, nlon) float64 2.397e+06 2.397e+06 ...\n",
       "    HTE                    (nlat, nlon) float64 5.94e+06 5.94e+06 5.94e+06 ...\n",
       "    HUS                    (nlat, nlon) float64 2.397e+06 2.397e+06 ...\n",
       "    HUW                    (nlat, nlon) float64 5.94e+06 5.94e+06 5.94e+06 ...\n",
       "    ANGLE                  (nlat, nlon) float64 0.0 0.0 0.0 0.0 0.0 0.0 0.0 ...\n",
       "    ANGLET                 (nlat, nlon) float64 0.0 0.0 0.0 0.0 0.0 0.0 0.0 ...\n",
       "    days_in_norm_year      float64 365.0\n",
       "    grav                   float64 980.6\n",
       "    omega                  float64 7.292e-05\n",
       "    radius                 float64 6.371e+08\n",
       "    cp_sw                  float64 3.996e+07\n",
       "    sound                  float64 1.5e+05\n",
       "    vonkar                 float64 0.4\n",
       "    cp_air                 float64 1.005e+03\n",
       "    rho_air                float64 1.292\n",
       "    rho_sw                 float64 1.026\n",
       "    rho_fw                 float64 1.0\n",
       "    stefan_boltzmann       float64 5.67e-08\n",
       "    latent_heat_vapor      float64 2.501e+06\n",
       "    latent_heat_fusion     float64 3.337e+09\n",
       "    ocn_ref_salinity       float64 34.7\n",
       "    sea_ice_salinity       float64 4.0\n",
       "    T0_Kelvin              float64 273.1\n",
       "    salt_to_ppt            float64 1e+03\n",
       "    ppt_to_salt            float64 0.001\n",
       "    mass_to_Sv             float64 1e-12\n",
       "    heat_to_PW             float64 4.186e-15\n",
       "    salt_to_Svppt          float64 1e-09\n",
       "    salt_to_mmday          float64 3.154e+05\n",
       "    momentum_factor        float64 10.0\n",
       "    hflux_factor           float64 2.439e-05\n",
       "    fwflux_factor          float64 0.0001\n",
       "    salinity_factor        float64 -0.00347\n",
       "    sflux_factor           float64 0.1\n",
       "    nsurface_t             float64 8.621e+04\n",
       "    nsurface_u             float64 8.305e+04\n",
       "  * member                 (member) int64 2 9 10 11\n",
       "Dimensions without coordinates: nlat, nlon\n",
       "Data variables:\n",
       "    UE_DIC_ALT_CO2         (member, time, z_t, nlat, nlon) float32 dask.array<shape=(4, 181, 60, 384, 320), chunksize=(1, 1, 60, 384, 320)>\n",
       "    VN_DIC_ALT_CO2         (member, time, z_t, nlat, nlon) float32 dask.array<shape=(4, 181, 60, 384, 320), chunksize=(1, 1, 60, 384, 320)>\n",
       "    WT_DIC_ALT_CO2         (member, time, z_w_top, nlat, nlon) float32 dask.array<shape=(4, 181, 60, 384, 320), chunksize=(1, 1, 60, 384, 320)>\n",
       "    HDIFE_DIC_ALT_CO2      (member, time, z_t, nlat, nlon) float32 dask.array<shape=(4, 181, 60, 384, 320), chunksize=(1, 1, 60, 384, 320)>\n",
       "    HDIFN_DIC_ALT_CO2      (member, time, z_t, nlat, nlon) float32 dask.array<shape=(4, 181, 60, 384, 320), chunksize=(1, 1, 60, 384, 320)>\n",
       "    HDIFB_DIC_ALT_CO2      (member, time, z_w_bot, nlat, nlon) float32 dask.array<shape=(4, 181, 60, 384, 320), chunksize=(1, 1, 60, 384, 320)>\n",
       "    DIA_IMPVF_DIC_ALT_CO2  (member, time, z_w_bot, nlat, nlon) float32 dask.array<shape=(4, 181, 60, 384, 320), chunksize=(1, 1, 60, 384, 320)>\n",
       "    KPP_SRC_DIC_ALT_CO2    (member, time, z_t, nlat, nlon) float32 dask.array<shape=(4, 181, 60, 384, 320), chunksize=(1, 1, 60, 384, 320)>\n",
       "Attributes:\n",
       "    title:         b.e11.BRCP85C5CNBDRD.f09_g16.033\n",
       "    history:       none\n",
       "    Conventions:   CF-1.0; http://www.cgd.ucar.edu/cms/eaton/netcdf/CF-curren...\n",
       "    contents:      Diagnostic and Prognostic Variables\n",
       "    source:        CCSM POP2, the CCSM Ocean Component\n",
       "    revision:      $Id: tavg.F90 41939 2012-11-14 16:37:23Z mlevy@ucar.edu $\n",
       "    calendar:      All years have exactly  365 days.\n",
       "    start_time:    This dataset was created on 2014-07-07 at 19:34:58.4\n",
       "    cell_methods:  cell_methods = time: mean ==> the variable values are aver...\n",
       "    nsteps_total:  9100\n",
       "    tavg_sum:      31449600.0"
      ]
     },
     "execution_count": 7,
     "metadata": {},
     "output_type": "execute_result"
    }
   ],
   "source": [
    "ds"
   ]
  },
  {
   "cell_type": "code",
   "execution_count": 8,
   "metadata": {},
   "outputs": [],
   "source": [
    "# # J_DIC was averaged with nco. Need to open separate ds and then correct time \n",
    "# ds_J = pl.open_pop_ensemble(ddir, [transport_varnames[8]], memberlist)"
   ]
  },
  {
   "cell_type": "code",
   "execution_count": 9,
   "metadata": {},
   "outputs": [],
   "source": [
    "# ds_J['time'] = ds['time']\n",
    "\n",
    "# ds = xr.merge([ds,ds_J])\n",
    "# ds.chunk({'time': 1})"
   ]
  },
  {
   "cell_type": "markdown",
   "metadata": {},
   "source": [
    "## Convert Units\n",
    "All terms are converted to nmol/s"
   ]
  },
  {
   "cell_type": "code",
   "execution_count": 10,
   "metadata": {},
   "outputs": [],
   "source": [
    "tarea = ds['TAREA']\n",
    "vol = (ds.dz)*tarea"
   ]
  },
  {
   "cell_type": "code",
   "execution_count": 11,
   "metadata": {},
   "outputs": [],
   "source": [
    "# adjust coords to z_t for later computation of divergence\n",
    "hdifb_t = ds['HDIFB_' + tracer]\n",
    "hdifb_t = hdifb_t.rename({'z_w_bot':'z_t'})\n",
    "hdifb_t['z_t'] = ds['z_t']\n",
    "\n",
    "wt_t = ds['WT_' + tracer]\n",
    "wt_t = wt_t.rename({'z_w_top':'z_t'})\n",
    "wt_t['z_t'] = ds['z_t']"
   ]
  },
  {
   "cell_type": "code",
   "execution_count": 12,
   "metadata": {},
   "outputs": [
    {
     "name": "stderr",
     "output_type": "stream",
     "text": [
      "100%|██████████| 5/5 [00:00<00:00,  5.48it/s]\n"
     ]
    },
    {
     "name": "stdout",
     "output_type": "stream",
     "text": [
      "WT_DIC_ALT_CO2\n",
      "HDIFB_DIC_ALT_CO2\n"
     ]
    }
   ],
   "source": [
    "# terms in units of mmol m^{-3} s^{-1}\n",
    "transport_terms = ['UE_','VN_','HDIFE_','HDIFN_','KPP_SRC_']#,'J_']\n",
    "\n",
    "for term in tqdm(transport_terms):\n",
    "    \n",
    "  ds[term + tracer] = ds[term + tracer]*vol\n",
    "  ds[term + tracer].attrs['units'] = 'nmol/s'\n",
    "  \n",
    "wt_t = wt_t*vol\n",
    "print('WT_' + tracer)\n",
    "hdifb_t = hdifb_t*vol\n",
    "print('HDIFB_' + tracer)"
   ]
  },
  {
   "cell_type": "code",
   "execution_count": 13,
   "metadata": {},
   "outputs": [],
   "source": [
    "# DIA_IMPVF is in units of mmol m^{-2} cm s^{-1} \n",
    "# convert to mmol s^{-1} \n",
    "ds['DIA_IMPVF_' + tracer] = (ds['DIA_IMPVF_' + tracer])*tarea\n",
    "ds['DIA_IMPVF_' + tracer].attrs['units'] = 'nmol/s'\n",
    "\n",
    "# adjust coords to z_t for later computation of divergence\n",
    "diadiff_t = ds['DIA_IMPVF_' + tracer]\n",
    "diadiff_t = diadiff_t.rename({'z_w_bot':'z_t'})\n",
    "diadiff_t['z_t'] = ds['z_t']"
   ]
  },
  {
   "cell_type": "code",
   "execution_count": 14,
   "metadata": {},
   "outputs": [],
   "source": [
    "ue_t = ds['UE_' + tracer]\n",
    "vn_t = ds['VN_' + tracer]\n",
    "wt_t = wt_t\n",
    "hdife_t = ds['HDIFE_' + tracer]\n",
    "hdifn_t = ds['HDIFN_' + tracer]\n",
    "hdifb_t = hdifb_t\n",
    "# bio_sms_t = ds['J_' + tracer]\n",
    "kpp_sms_t = ds['KPP_SRC_' + tracer]\n",
    "diadiff_t = diadiff_t"
   ]
  },
  {
   "cell_type": "markdown",
   "metadata": {},
   "source": [
    "## Calculate Divergence\n",
    "Methods are described in the __[POP Manual](http://www.cesm.ucar.edu/models/cesm2.0/ocean/doc/sci/POPRefManual.pdf)__ "
   ]
  },
  {
   "cell_type": "markdown",
   "metadata": {},
   "source": [
    "## Vertical Divergence: Resolved Advection"
   ]
  },
  {
   "cell_type": "code",
   "execution_count": 15,
   "metadata": {},
   "outputs": [],
   "source": [
    "wt_t_kp1  = wt_t.shift(z_t=-1).fillna(0.)\n",
    "wdiv_t = wt_t_kp1 - wt_t\n",
    "wdiv_t.attrs['units'] = 'nmol/s'"
   ]
  },
  {
   "cell_type": "markdown",
   "metadata": {},
   "source": [
    "## Vertical Divergence: Submesoscale Eddies and Isopycnal Diffusion"
   ]
  },
  {
   "cell_type": "code",
   "execution_count": 16,
   "metadata": {},
   "outputs": [],
   "source": [
    "hdifb_t_km1 = hdifb_t.shift(z_t=1).fillna(0.)\n",
    "wdiv_hdifb_t = hdifb_t_km1 - hdifb_t\n",
    "wdiv_hdifb_t.attrs['units'] = 'nmol/s'"
   ]
  },
  {
   "cell_type": "markdown",
   "metadata": {},
   "source": [
    "## Vertical Divergence: Diapycnal Diffusion \n",
    "(KPP parameterization, __[Large et al. 1994](http://www.cesm.ucar.edu/models/cesm2.0/ocean/doc/sci/POPRefManual.pdf)__)\n"
   ]
  },
  {
   "cell_type": "code",
   "execution_count": 17,
   "metadata": {},
   "outputs": [],
   "source": [
    "diadiff_t_km1 = diadiff_t.shift(z_t=1).fillna(0.)\n",
    "wdiv_diadiff_t = diadiff_t_km1 - diadiff_t\n",
    "wdiv_diadiff_t.attrs['units'] = 'nmol/s'"
   ]
  },
  {
   "cell_type": "markdown",
   "metadata": {},
   "source": [
    "## Horizontal Divergence: Resolved Advection"
   ]
  },
  {
   "cell_type": "code",
   "execution_count": 18,
   "metadata": {},
   "outputs": [],
   "source": [
    "ue_t_im1 = ue_t.roll(nlon=1)\n",
    "udiv_t = ue_t_im1 - ue_t\n",
    "\n",
    "vn_t_jm1 = vn_t.roll(nlat=1)\n",
    "vdiv_t = vn_t_jm1 - vn_t\n",
    "\n",
    "udiv_t.attrs['units'] = 'nmol/s'\n",
    "vdiv_t.attrs['units'] = 'nmol/s'\n",
    "\n",
    "hdiv_t = udiv_t + vdiv_t"
   ]
  },
  {
   "cell_type": "markdown",
   "metadata": {},
   "source": [
    "## Horizontal Divergence: Submesoscale Eddies and Isopycnal Diffusion"
   ]
  },
  {
   "cell_type": "code",
   "execution_count": 19,
   "metadata": {},
   "outputs": [],
   "source": [
    "hdife_t_im1 = hdife_t.roll(nlon=1)\n",
    "udiv_hdife_t = hdife_t - hdife_t_im1\n",
    "\n",
    "hdifn_t_jm1 = hdifn_t.roll(nlat=1)\n",
    "vdiv_hdifn_t = hdifn_t - hdifn_t_jm1\n",
    "\n",
    "udiv_hdife_t.attrs['units'] = 'nmol/s'\n",
    "vdiv_hdifn_t.attrs['units'] = 'nmol/s'\n",
    "\n",
    "hdiv_hdif_t = udiv_hdife_t + vdiv_hdifn_t"
   ]
  },
  {
   "cell_type": "markdown",
   "metadata": {},
   "source": [
    "## Write to Disk\n",
    "\n",
    "The final product is grid cell by grid cell tracer divergence (nmol/s) that can be integrated vertically to the depth of your choosing for the column budget"
   ]
  },
  {
   "cell_type": "code",
   "execution_count": null,
   "metadata": {
    "scrolled": false
   },
   "outputs": [],
   "source": [
    "# take ensemble mean and write to disk\n",
    "\n",
    "# you don't have to worry about the warnings\n",
    "# https://github.com/dask/distributed/issues/730\n",
    "\n",
    "budget_filelist = [hdiv_t,wdiv_t,hdiv_hdif_t,wdiv_hdifb_t,kpp_sms_t,wdiv_diadiff_t]#,bio_sms_t]\n",
    "budget_filelist_str = ['hdiv_','wdiv_','hdiv_hdif_','wdiv_hdifb_','kpp_sms_','wdiv_diadiff_',]#'bio_sms_']\n",
    "\n",
    "for budget_file,budget_file_str in tqdm(zip(budget_filelist,budget_filelist_str)):\n",
    "    budget_file = budget_file.mean(dim='member')\n",
    "    budget_file.to_netcdf((outdir + '{}{}_{}.1850-2100.nc'.format(budget_file_str,tracer,memberlist[0])))"
   ]
  }
 ],
 "metadata": {
  "kernelspec": {
   "display_name": "Python 3",
   "language": "python",
   "name": "python3"
  },
  "language_info": {
   "codemirror_mode": {
    "name": "ipython",
    "version": 3
   },
   "file_extension": ".py",
   "mimetype": "text/x-python",
   "name": "python",
   "nbconvert_exporter": "python",
   "pygments_lexer": "ipython3",
   "version": "3.6.5"
  }
 },
 "nbformat": 4,
 "nbformat_minor": 2
}

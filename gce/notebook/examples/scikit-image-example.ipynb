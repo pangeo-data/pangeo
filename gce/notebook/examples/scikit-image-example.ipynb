{
 "cells": [
  {
   "cell_type": "markdown",
   "metadata": {},
   "source": [
    "Dask and Scikit-Image on a Cluster\n",
    "==================================\n",
    "\n",
    "<img src=\"http://scikit-image.org/_static/img/logo.png\">"
   ]
  },
  {
   "cell_type": "code",
   "execution_count": null,
   "metadata": {},
   "outputs": [],
   "source": [
    "from dask_kubernetes import KubeCluster\n",
    "cluster = KubeCluster()\n",
    "cluster"
   ]
  },
  {
   "cell_type": "code",
   "execution_count": null,
   "metadata": {},
   "outputs": [],
   "source": [
    "from dask.distributed import Client, progress\n",
    "client = Client(cluster)"
   ]
  },
  {
   "cell_type": "code",
   "execution_count": null,
   "metadata": {},
   "outputs": [],
   "source": [
    "%matplotlib inline\n",
    "from dask import delayed\n",
    "import skimage.io\n",
    "import matplotlib.pyplot as plt"
   ]
  },
  {
   "cell_type": "code",
   "execution_count": null,
   "metadata": {},
   "outputs": [],
   "source": [
    "sample = skimage.io.imread('https://storage.googleapis.com/pangeo-data/FIB-25/iso.00000.png')\n",
    "\n",
    "fig = plt.figure(figsize=(10, 10))\n",
    "plt.imshow(sample, cmap='gray')"
   ]
  },
  {
   "cell_type": "code",
   "execution_count": null,
   "metadata": {},
   "outputs": [],
   "source": [
    "from dask import delayed\n",
    "import dask.array as da\n",
    "\n",
    "# filenames = ['https://storage.googleapis.com/pangeo-data/FIB-25/iso.%05d.png' % i for i in range(0, 8090)]\n",
    "filenames = ['https://storage.googleapis.com/pangeo-data/FIB-25/iso.%05d.png' % i for i in range(0, 1000)]\n",
    "images = [delayed(skimage.io.imread)(fn) for fn in filenames]\n",
    "arrays = [da.from_delayed(im, shape=sample.shape, dtype=sample.dtype) for im in images]\n",
    "x = da.stack(arrays, axis=0)\n",
    "x"
   ]
  },
  {
   "cell_type": "code",
   "execution_count": null,
   "metadata": {},
   "outputs": [],
   "source": [
    "y = x.rechunk((200, 200, 200))\n",
    "y = y.persist()\n",
    "progress(y)"
   ]
  },
  {
   "cell_type": "code",
   "execution_count": null,
   "metadata": {},
   "outputs": [],
   "source": [
    "import xarray as xr\n",
    "import holoviews as hv\n",
    "import numpy as np\n",
    "from holoviews.operation.datashader import regrid\n",
    "hv.extension('bokeh')"
   ]
  },
  {
   "cell_type": "code",
   "execution_count": null,
   "metadata": {},
   "outputs": [],
   "source": [
    "opts = {'plot': dict(xaxis=None, yaxis=None),\n",
    "        'style': dict(cmap='Greys')}\n",
    "hv.opts({'Image': opts})\n",
    "\n",
    "xs = np.arange(y.shape[2])\n",
    "ys = np.arange(y.shape[1])\n",
    "zs = np.arange(y.shape[0])\n",
    "xrda = xr.DataArray(y, coords={'x': xs, 'y': ys, 'z': zs}, dims=['z', 'y', 'x'])\n",
    "hvds = hv.Dataset(xrda, vdims=hv.Dimension('ElectronDensity', range=(0, 255)))\n",
    "\n",
    "img_xy = hvds.to(hv.Image, ['x', 'y'], dynamic=True)\n",
    "img_xz = hvds.to(hv.Image, ['x', 'z'], dynamic=True)\n",
    "\n",
    "(regrid(img_xy) + regrid(img_xz))"
   ]
  }
 ],
 "metadata": {
  "kernelspec": {
   "display_name": "Python [default]",
   "language": "python",
   "name": "python3"
  },
  "language_info": {
   "codemirror_mode": {
    "name": "ipython",
    "version": 3
   },
   "file_extension": ".py",
   "mimetype": "text/x-python",
   "name": "python",
   "nbconvert_exporter": "python",
   "pygments_lexer": "ipython3",
   "version": "3.6.4"
  }
 },
 "nbformat": 4,
 "nbformat_minor": 2
}
